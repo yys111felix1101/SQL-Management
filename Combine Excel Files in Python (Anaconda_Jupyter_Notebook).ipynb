{
 "cells": [
  {
   "cell_type": "code",
   "execution_count": 1,
   "id": "9553854b",
   "metadata": {},
   "outputs": [
    {
     "name": "stderr",
     "output_type": "stream",
     "text": [
      "<ipython-input-1-36858f6b7060>:15: FutureWarning: As the xlwt package is no longer maintained, the xlwt engine will be removed in a future version of pandas. This is the only engine in pandas that supports writing in the xls format. Install openpyxl and write to an xlsx file instead. You can set the option io.excel.xls.writer to 'xlwt' to silence this warning. While this option is deprecated and will also raise a warning, it can be globally set and the warning suppressed.\n",
      "  df_total.to_excel(\"第八周销售明细统计.xls\",index=False)\n"
     ]
    }
   ],
   "source": [
    "import pandas as pd\n",
    "import os\n",
    "import openpyxl\n",
    "\n",
    "df_total = pd.DataFrame()\n",
    "\n",
    "folder = r'/Users/yausangyeung/Desktop/Data Science Learing/Cassie Reference Material/万境水岸小学 第八周 明细'\n",
    "files = os.listdir(folder)\n",
    "\n",
    "for fname in files:\n",
    "    if  fname.startswith(\"万境水岸小学\") and fname.endswith(\".xls\"):\n",
    "        df=pd.read_excel(fname)\n",
    "        df_total=pd.concat([df_total,df])\n",
    "\n",
    "df_total.to_excel(\"第八周销售明细统计.xls\",index=False)\n"
   ]
  },
  {
   "cell_type": "code",
   "execution_count": null,
   "id": "67307bf2",
   "metadata": {},
   "outputs": [],
   "source": []
  }
 ],
 "metadata": {
  "kernelspec": {
   "display_name": "Python 3",
   "language": "python",
   "name": "python3"
  },
  "language_info": {
   "codemirror_mode": {
    "name": "ipython",
    "version": 3
   },
   "file_extension": ".py",
   "mimetype": "text/x-python",
   "name": "python",
   "nbconvert_exporter": "python",
   "pygments_lexer": "ipython3",
   "version": "3.8.8"
  }
 },
 "nbformat": 4,
 "nbformat_minor": 5
}
